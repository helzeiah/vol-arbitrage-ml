{
 "cells": [
  {
   "metadata": {},
   "cell_type": "markdown",
   "source": [
    "# 00_data_test\n",
    "Downloads SPY daily data, computes realized volatility, and validates that the data pipeline works."
   ],
   "id": "5af8dca267728676"
  },
  {
   "metadata": {},
   "cell_type": "markdown",
   "source": "### imports -- RUN THIS FIRST!!!!!!!",
   "id": "db53e55419f6640f"
  },
  {
   "cell_type": "code",
   "id": "initial_id",
   "metadata": {
    "collapsed": true,
    "ExecuteTime": {
     "end_time": "2025-08-20T23:13:45.703192Z",
     "start_time": "2025-08-20T23:13:44.283211Z"
    }
   },
   "source": [
    "# data handling\n",
    "import pandas as pd\n",
    "import numpy as np\n",
    "from pathlib import Path\n",
    "\n",
    "# data source\n",
    "import yfinance as yf\n",
    "\n",
    "# visualization\n",
    "import matplotlib.pyplot as plt\n",
    "\n",
    "plt.style.use(\"seaborn-v0_8\")\n",
    "pd.set_option(\"display.max_columns\", 20)\n",
    "pd.set_option(\"display.width\", 120)"
   ],
   "outputs": [],
   "execution_count": 3
  },
  {
   "metadata": {},
   "cell_type": "markdown",
   "source": "### constants and path setup",
   "id": "7e6673fa3a833ac5"
  },
  {
   "metadata": {
    "ExecuteTime": {
     "end_time": "2025-08-20T23:14:02.550119Z",
     "start_time": "2025-08-20T23:14:02.545172Z"
    }
   },
   "cell_type": "code",
   "source": [
    "# constants for data\n",
    "TICKER = \"SPY\"\n",
    "START_DATE = \"2015-01-01\"\n",
    "END_DATE = \"2025-01-01\"\n",
    "\n",
    "# project paths\n",
    "ROOT = Path(\"..\").resolve()\n",
    "RAW_DIR = ROOT / \"data\" / \"raw\"\n",
    "RAW_DIR.mkdir(parents=True, exist_ok=True)\n",
    "PRICES_PATH = RAW_DIR / f\"prices_{TICKER}.parquet\"\n",
    "\n",
    "print(f\"Project root: {ROOT}\")\n",
    "print(f\"Raw data dir: {RAW_DIR}\")\n",
    "print(f\"Prices parquet: {PRICES_PATH}\")"
   ],
   "id": "6683b41ef409247c",
   "outputs": [
    {
     "name": "stdout",
     "output_type": "stream",
     "text": [
      "Project root: /Users/helzeiah/Desktop/quantProjects/vol-arbitrage-ml\n",
      "Raw data dir: /Users/helzeiah/Desktop/quantProjects/vol-arbitrage-ml/data/raw\n",
      "Prices parquet: /Users/helzeiah/Desktop/quantProjects/vol-arbitrage-ml/data/raw/prices_SPY.parquet\n"
     ]
    }
   ],
   "execution_count": 7
  },
  {
   "metadata": {},
   "cell_type": "markdown",
   "source": "### helper functions (the code)",
   "id": "1911fcdb95876c49"
  },
  {
   "metadata": {
    "ExecuteTime": {
     "end_time": "2025-08-20T23:13:54.202970Z",
     "start_time": "2025-08-20T23:13:54.199378Z"
    }
   },
   "cell_type": "code",
   "source": [
    "def normalize_price_columns(df: pd.DataFrame) -> pd.DataFrame:\n",
    "    \"\"\"\n",
    "    Purpose:   standardize and clean the Yahoo Finance price data.\n",
    "    Details:   - resets index so date is a column\n",
    "               - renames columns to snake_case\n",
    "               - ensures correct types and order\n",
    "               - sorts by date and drops duplicates\n",
    "    :param df: the pd.DataFrame to be normalized\n",
    "    :return:   the cleaned DataFrame\n",
    "    \"\"\"\n",
    "    df = df.copy()\n",
    "\n",
    "    # reset the index\n",
    "    df = df.reset_index().rename(columns={\"Date\": \"date\"})\n",
    "\n",
    "    # map names to snake_case\n",
    "    rename_map = {\n",
    "        \"Open\": \"open\",\n",
    "        \"High\": \"high\",\n",
    "        \"Low\": \"low\",\n",
    "        \"Close\": \"close\",\n",
    "        \"Adj Close\": \"adj_close\",\n",
    "        \"Volume\": \"volume\",\n",
    "    }\n",
    "    df = df.rename(columns=rename_map)\n",
    "\n",
    "    # enforce proper column order\n",
    "    cols = [\"date\", \"open\", \"high\", \"low\", \"close\", \"adj_close\", \"volume\"]\n",
    "    df = df[cols]\n",
    "\n",
    "    # ensure numeric data types\n",
    "    df[\"date\"] = pd.to_datetime(df[\"date\"]).dt.tz_localize(None)\n",
    "    numeric_cols = [\"open\", \"high\", \"low\", \"close\", \"adj_close\", \"volume\"]\n",
    "    for column in numeric_cols:\n",
    "        df[column] = pd.to_numeric(df[column], errors=\"coerce\")\n",
    "\n",
    "    df = (\n",
    "        df.sort_values(\"date\")\n",
    "        .drop_duplicates(subset=[\"date\"], keep=\"last\")\n",
    "        .reset_index(drop=True)\n",
    "    )\n",
    "\n",
    "    return df\n",
    "\n",
    "\n",
    "def compute_log_returns(adj_close: pd.Series) -> pd.Series:\n",
    "    \"\"\"\n",
    "    Purpose:\n",
    "    :param adj_close:\n",
    "    :return:\n",
    "    \"\"\"\n",
    "    s = adj_close.astype(float).clip(lower=1e-12)\n",
    "    log_price = np.log(s)\n",
    "    r = log_price.diff()\n",
    "    return r\n",
    "\n",
    "def compute_forward_realized_vol(log_returns: pd.Series, horizon: int = 10, annualize: bool = True) -> pd.Series:\n",
    "    \"\"\"\n",
    "    Purpose:\n",
    "    :param log_returns:\n",
    "    :param horizon:\n",
    "    :param annualize:\n",
    "    :return:\n",
    "    \"\"\"\n",
    "\n",
    "    backward_std = log_returns.rolling(window=horizon, min_periods=horizon).std(ddof=1)\n",
    "\n",
    "    forward_std = backward_std.shift(-horizon)\n",
    "\n",
    "    if annualize:\n",
    "        forward_std = forward_std * np.sqrt(252)\n",
    "\n",
    "    return forward_std.rename(f\"rv{horizon}\" if not annualize else f\"rv{horizon}_ann\")"
   ],
   "id": "5ee7a8ed135bad66",
   "outputs": [],
   "execution_count": 6
  },
  {
   "metadata": {},
   "cell_type": "code",
   "outputs": [],
   "execution_count": null,
   "source": [
    "\"\"  # download the data\n",
    "df = yf.download(TICKER, start=START_DATE, end=END_DATE)\n",
    "# for the following, idk how to do them or why: so here is just the steps\n",
    "# reset index\n",
    "# normalize column names\n",
    "# sort by date, drop duplicates\n",
    "# ensure numeric types\n",
    "# print head and info"
   ],
   "id": "e486be9d91260485"
  },
  {
   "metadata": {},
   "cell_type": "code",
   "outputs": [],
   "execution_count": null,
   "source": "# save as parquet to prices dir (dont know how)",
   "id": "d8f35d5acff82762"
  },
  {
   "metadata": {},
   "cell_type": "code",
   "outputs": [],
   "execution_count": null,
   "source": "# compute log returns (idk what this is or how to do it)",
   "id": "c7c942b1715ff720"
  }
 ],
 "metadata": {
  "kernelspec": {
   "display_name": "Python 3",
   "language": "python",
   "name": "python3"
  },
  "language_info": {
   "codemirror_mode": {
    "name": "ipython",
    "version": 2
   },
   "file_extension": ".py",
   "mimetype": "text/x-python",
   "name": "python",
   "nbconvert_exporter": "python",
   "pygments_lexer": "ipython2",
   "version": "2.7.6"
  }
 },
 "nbformat": 4,
 "nbformat_minor": 5
}
